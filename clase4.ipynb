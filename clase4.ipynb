{
 "cells": [
  {
   "cell_type": "code",
   "execution_count": 7,
   "id": "27509f2b-4356-402f-9ad4-065531c07ca5",
   "metadata": {},
   "outputs": [
    {
     "name": "stdout",
     "output_type": "stream",
     "text": [
      "Defaulting to user installation because normal site-packages is not writeable\n",
      "Collecting gapminder\n",
      "  Downloading gapminder-0.1-py3-none-any.whl (32 kB)\n",
      "Requirement already satisfied: pandas in /usr/lib/python3/dist-packages (from gapminder) (1.3.5)\n",
      "Installing collected packages: gapminder\n",
      "Successfully installed gapminder-0.1\n"
     ]
    }
   ],
   "source": [
    "import numpy as np\n",
    "import pandas as pd\n",
    "import seaborn as sns\n",
    "import seaborn.objects as so\n",
    "\n",
    "from sklearn import linear_model    # Herramientas de modelos lineales\n",
    "from sklearn.metrics import mean_squared_error, r2_score    # Medidas de desempeño\n",
    "!pip install gapminder"
   ]
  },
  {
   "cell_type": "code",
   "execution_count": 13,
   "id": "6fa91d6a-a8ae-4acd-a564-c0be8adfc882",
   "metadata": {},
   "outputs": [
    {
     "name": "stdout",
     "output_type": "stream",
     "text": [
      "(0.2317083916083916, -389.6063445221445)\n",
      "[[0.23170839]] [-389.60634452]\n"
     ]
    }
   ],
   "source": [
    "#1) \n",
    "\"\"\" a- definir pendiente beta1 y o.o beta0\"\"\"\n",
    "def coefs_rl(x,y):\n",
    "    promX = x.mean()\n",
    "    promY = y.mean()\n",
    "    beta_1 = ((x - promX)*(y - promY)).sum() / ((x-promX)**2).sum()\n",
    "    beta_0 = promY - beta_1*promX\n",
    "    return beta_1, beta_0\n",
    "\"\"\" b- Con el dataset gapminder, utilizar la función implementada en el item anterior para\n",
    "realizar una regresión lineal entre los años y la expectiva de vida en Argentina. Comparar\n",
    "los coeficientes con los obtenidos por scikit-learn\"\"\"\n",
    "\n",
    "from gapminder import gapminder\n",
    "#gapminder.head()\n",
    "\n",
    "\n",
    "\n",
    "datos = gapminder[gapminder[\"country\"].isin([\"Argentina\"])]\n",
    "print(coefs_rl(datos[\"year\"],datos[\"lifeExp\"]))\n",
    "\n",
    "\n",
    "\n",
    "modelo = linear_model.LinearRegression()\n",
    "modelo.fit(datos [[\"year\"]] , datos [[\"lifeExp\"]])\n",
    "beta_1 = modelo.coef_ #b1\n",
    "beta_0 = modelo.intercept_ #b0\n",
    "print(beta_1 , beta_0)"
   ]
  },
  {
   "cell_type": "code",
   "execution_count": null,
   "id": "f98195f5-a2c0-41a9-bfe3-04fd64c81bd3",
   "metadata": {},
   "outputs": [],
   "source": [
    "#2)\n"
   ]
  },
  {
   "cell_type": "code",
   "execution_count": null,
   "id": "a9876084-2fc7-45af-8afa-6331e9bc80b9",
   "metadata": {},
   "outputs": [],
   "source": []
  },
  {
   "cell_type": "code",
   "execution_count": null,
   "id": "1f38e26f-3511-4994-9d46-f02075588041",
   "metadata": {},
   "outputs": [],
   "source": []
  }
 ],
 "metadata": {
  "kernelspec": {
   "display_name": "Python 3 (ipykernel)",
   "language": "python",
   "name": "python3"
  },
  "language_info": {
   "codemirror_mode": {
    "name": "ipython",
    "version": 3
   },
   "file_extension": ".py",
   "mimetype": "text/x-python",
   "name": "python",
   "nbconvert_exporter": "python",
   "pygments_lexer": "ipython3",
   "version": "3.10.12"
  }
 },
 "nbformat": 4,
 "nbformat_minor": 5
}
