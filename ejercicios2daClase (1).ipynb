{
 "cells": [
  {
   "cell_type": "code",
   "execution_count": 1,
   "id": "dccd1853-c7b0-48f5-9c7d-1f846cfbf4f2",
   "metadata": {},
   "outputs": [
    {
     "data": {
      "text/plain": [
       "0    7\n",
       "1    4\n",
       "2   -5\n",
       "3    3\n",
       "dtype: int64"
      ]
     },
     "execution_count": 1,
     "metadata": {},
     "output_type": "execute_result"
    }
   ],
   "source": [
    "#Series: un vector unidimensional indexado, que contiene datos de cualquier tipo como números enteros, cadenas, objetos Python, etc.\n",
    "#DataFrame: una estructura de datos bidimensional que contiene datos como una matriz bidimensional o una tabla con filas y columnas. (muy interesante)\n",
    "import pandas as pd\n",
    "import numpy as np\n",
    "obj = pd.Series([7,4,-5,3])\n",
    "obj"
   ]
  },
  {
   "cell_type": "code",
   "execution_count": 2,
   "id": "a4681f63-e494-4bed-9777-1ce0e04bcef3",
   "metadata": {},
   "outputs": [
    {
     "data": {
      "text/plain": [
       "<PandasArray>\n",
       "[7, 4, -5, 3]\n",
       "Length: 4, dtype: int64"
      ]
     },
     "execution_count": 2,
     "metadata": {},
     "output_type": "execute_result"
    }
   ],
   "source": [
    "#puedo pasar de series a array\n",
    "A = obj.array\n",
    "A"
   ]
  },
  {
   "cell_type": "code",
   "execution_count": 6,
   "id": "f9acc746-3720-45e5-a037-423e1f2ddc1f",
   "metadata": {},
   "outputs": [
    {
     "data": {
      "text/plain": [
       "RangeIndex(start=0, stop=4, step=1)"
      ]
     },
     "execution_count": 6,
     "metadata": {},
     "output_type": "execute_result"
    }
   ],
   "source": [
    "obj.index"
   ]
  },
  {
   "cell_type": "code",
   "execution_count": 3,
   "id": "865e5ff7-5c67-4c15-9584-bfcf6af807e6",
   "metadata": {},
   "outputs": [
    {
     "data": {
      "text/plain": [
       "d    2\n",
       "a    4\n",
       "b    6\n",
       "c    1\n",
       "dtype: int64"
      ]
     },
     "execution_count": 3,
     "metadata": {},
     "output_type": "execute_result"
    }
   ],
   "source": [
    "obj2 = pd.Series([2,4,6,1] , index = [\"d\",\"a\",\"b\",\"c\"])\n",
    "obj2"
   ]
  },
  {
   "cell_type": "code",
   "execution_count": 14,
   "id": "3a474bc0-ae3e-4d4c-a66f-b979acaf0d08",
   "metadata": {},
   "outputs": [
    {
     "data": {
      "text/plain": [
       "d    2\n",
       "a    4\n",
       "dtype: int64"
      ]
     },
     "execution_count": 14,
     "metadata": {},
     "output_type": "execute_result"
    }
   ],
   "source": [
    "obj2[\"b\"]\n",
    "obj2[0]\n",
    "obj2[0:2]"
   ]
  },
  {
   "cell_type": "code",
   "execution_count": 16,
   "id": "36f43fd7-030f-4f2f-b02f-3858be103aac",
   "metadata": {},
   "outputs": [
    {
     "data": {
      "text/plain": [
       "'si sumo una serie con otra de diferentes indices, me devuelve NaN'"
      ]
     },
     "execution_count": 16,
     "metadata": {},
     "output_type": "execute_result"
    }
   ],
   "source": [
    "#NaN significa \"not a number\", se utiliza en series de Pandas para valores faltantes (missing values).\n",
    "\"\"\"si sumo una serie con otra de diferentes indices, me devuelve NaN\"\"\"\n"
   ]
  },
  {
   "cell_type": "code",
   "execution_count": 17,
   "id": "0d9b9153-9e74-4026-927e-79ea4732bf2f",
   "metadata": {},
   "outputs": [
    {
     "data": {
      "text/plain": [
       "0    False\n",
       "1     True\n",
       "2     True\n",
       "3     True\n",
       "4    False\n",
       "5     True\n",
       "6    False\n",
       "dtype: bool"
      ]
     },
     "execution_count": 17,
     "metadata": {},
     "output_type": "execute_result"
    }
   ],
   "source": [
    "#MUY UTIL EL ISIN PARA VER LO QUE PERTENECE A UNA SERIE O NO (UTIL PARA DICCIONARIOS)\n",
    "series1 = pd.Series([\"a\", \"b\", \"c\", \"b\", \"a\", \"c\", \"x\"])\n",
    "series1.isin([\"b\", \"c\"])"
   ]
  },
  {
   "cell_type": "code",
   "execution_count": 18,
   "id": "97f8b327-6393-408b-85be-233a54e78973",
   "metadata": {},
   "outputs": [
    {
     "data": {
      "text/plain": [
       "a    2\n",
       "b    2\n",
       "c    2\n",
       "x    1\n",
       "Name: count, dtype: int64"
      ]
     },
     "execution_count": 18,
     "metadata": {},
     "output_type": "execute_result"
    }
   ],
   "source": [
    "series1.value_counts()\n",
    "#Cuantas veces aparecen los valores en la serie"
   ]
  },
  {
   "cell_type": "code",
   "execution_count": 19,
   "id": "428748d4-b552-4ad8-9e5a-44572562f6b3",
   "metadata": {},
   "outputs": [
    {
     "data": {
      "text/plain": [
       "'DATAFRAMES'"
      ]
     },
     "execution_count": 19,
     "metadata": {},
     "output_type": "execute_result"
    }
   ],
   "source": [
    "\"\"\"DATAFRAMES\"\"\""
   ]
  },
  {
   "cell_type": "code",
   "execution_count": 25,
   "id": "114d8353-2784-47ff-b2a8-a1c095df6e7f",
   "metadata": {},
   "outputs": [
    {
     "data": {
      "text/html": [
       "<div>\n",
       "<style scoped>\n",
       "    .dataframe tbody tr th:only-of-type {\n",
       "        vertical-align: middle;\n",
       "    }\n",
       "\n",
       "    .dataframe tbody tr th {\n",
       "        vertical-align: top;\n",
       "    }\n",
       "\n",
       "    .dataframe thead th {\n",
       "        text-align: right;\n",
       "    }\n",
       "</style>\n",
       "<table border=\"1\" class=\"dataframe\">\n",
       "  <thead>\n",
       "    <tr style=\"text-align: right;\">\n",
       "      <th></th>\n",
       "      <th>Canción</th>\n",
       "      <th>Streams</th>\n",
       "    </tr>\n",
       "    <tr>\n",
       "      <th>Artistas</th>\n",
       "      <th></th>\n",
       "      <th></th>\n",
       "    </tr>\n",
       "  </thead>\n",
       "  <tbody>\n",
       "    <tr>\n",
       "      <th>Ariana</th>\n",
       "      <td>yes,and?</td>\n",
       "      <td>3800000</td>\n",
       "    </tr>\n",
       "    <tr>\n",
       "      <th>Nicki Nicole</th>\n",
       "      <td>Me Gusta</td>\n",
       "      <td>1500000</td>\n",
       "    </tr>\n",
       "    <tr>\n",
       "      <th>Emilia</th>\n",
       "      <td>jagger.mp3</td>\n",
       "      <td>870000</td>\n",
       "    </tr>\n",
       "    <tr>\n",
       "      <th>LINDA Tatiana</th>\n",
       "      <td>TU Turraka</td>\n",
       "      <td>740000</td>\n",
       "    </tr>\n",
       "    <tr>\n",
       "      <th>La Babydoll</th>\n",
       "      <td>No Te Arrepientas</td>\n",
       "      <td>650000</td>\n",
       "    </tr>\n",
       "    <tr>\n",
       "      <th>Onika</th>\n",
       "      <td>Burguers</td>\n",
       "      <td>1500</td>\n",
       "    </tr>\n",
       "  </tbody>\n",
       "</table>\n",
       "</div>"
      ],
      "text/plain": [
       "                         Canción  Streams\n",
       "Artistas                                 \n",
       "Ariana                  yes,and?  3800000\n",
       "Nicki Nicole            Me Gusta  1500000\n",
       "Emilia                jagger.mp3   870000\n",
       "LINDA Tatiana         TU Turraka   740000\n",
       "La Babydoll    No Te Arrepientas   650000\n",
       "Onika                   Burguers     1500"
      ]
     },
     "metadata": {},
     "output_type": "display_data"
    }
   ],
   "source": [
    "dataPop = {\"Artistas\" : [\"Ariana\", \"Nicki Nicole\", \"Emilia\", \"LINDA Tatiana\", \"La Babydoll\", \"Onika\"], \"Canción\" : [\"yes,and?\",\"Me Gusta\",\"jagger.mp3\",\"TU Turraka\", \"No Te Arrepientas\", \"Burguers\"],\n",
    "           \"Streams\" : np.array([3800000,1500000,870000,740000,650000,1500])}\n",
    "#display(dataPop)\n",
    "#streamSanvicentino = pd.DataFrame(dataPop)\n",
    "streamSanvicentino = pd.DataFrame(dataPop).set_index(\"Artistas\")\n",
    "display(streamSanvicentino)"
   ]
  },
  {
   "cell_type": "code",
   "execution_count": 17,
   "id": "d6a7c2fe-2124-41b6-9bc1-159a2ef16325",
   "metadata": {},
   "outputs": [
    {
     "data": {
      "text/plain": [
       "Artistas\n",
       "Ariana                    yes,and?\n",
       "Nicki Nicole              Me Gusta\n",
       "Emilia                  jagger.mp3\n",
       "LINDA Tatiana           TU Turraka\n",
       "La Babydoll      No Te Arrepientas\n",
       "Onika                     Burguers\n",
       "Name: Canción, dtype: object"
      ]
     },
     "execution_count": 17,
     "metadata": {},
     "output_type": "execute_result"
    }
   ],
   "source": [
    "canciones = streamSanvicentino[\"Canción\"] #dos formas de acceder a la columna de información\n",
    "canciones"
   ]
  },
  {
   "cell_type": "code",
   "execution_count": 16,
   "id": "8fdec0e7-1dbd-43d7-80ae-b6f3118337de",
   "metadata": {},
   "outputs": [
    {
     "data": {
      "text/plain": [
       "Artistas\n",
       "Ariana                    yes,and?\n",
       "Nicki Nicole              Me Gusta\n",
       "Emilia                  jagger.mp3\n",
       "LINDA Tatiana           TU Turraka\n",
       "La Babydoll      No Te Arrepientas\n",
       "Onika                     Burguers\n",
       "Name: Canción, dtype: object"
      ]
     },
     "execution_count": 16,
     "metadata": {},
     "output_type": "execute_result"
    }
   ],
   "source": [
    "streamSanvicentino.Canción"
   ]
  },
  {
   "cell_type": "code",
   "execution_count": 19,
   "id": "8f5a860f-9c19-4357-8e16-d42cd966878a",
   "metadata": {},
   "outputs": [
    {
     "data": {
      "text/plain": [
       "'yes,and?'"
      ]
     },
     "execution_count": 19,
     "metadata": {},
     "output_type": "execute_result"
    }
   ],
   "source": [
    "streamSanvicentino[\"Canción\"].Ariana #primero accedemos a la columna con [], y luego buscamos el valor que tiene asignado Ariana en canciones"
   ]
  },
  {
   "cell_type": "code",
   "execution_count": 20,
   "id": "ac6bb1f9-1f53-43bf-a0b6-8aed9ccbc85a",
   "metadata": {},
   "outputs": [
    {
     "data": {
      "text/plain": [
       "'los metodos loc[] e iloc[] nos ayudan a acceder a las filas de un dataframe, el primero accede\\nutilizando los index de las series utilizada y el segundo segun el numero de posición que tiene asignado por series array'"
      ]
     },
     "execution_count": 20,
     "metadata": {},
     "output_type": "execute_result"
    }
   ],
   "source": [
    "\"\"\"los metodos loc[] e iloc[] nos ayudan a acceder a las filas de un dataframe, el primero accede\n",
    "utilizando los index de las series utilizada y el segundo segun el numero de posición que tiene asignado por series array\"\"\"\n"
   ]
  },
  {
   "cell_type": "code",
   "execution_count": 21,
   "id": "7545fb47-6184-4980-9891-c21be5f09aff",
   "metadata": {},
   "outputs": [
    {
     "data": {
      "text/plain": [
       "Canción    jagger.mp3\n",
       "Streams        870000\n",
       "Name: Emilia, dtype: object"
      ]
     },
     "execution_count": 21,
     "metadata": {},
     "output_type": "execute_result"
    }
   ],
   "source": [
    "streamSanvicentino.loc[\"Emilia\"]"
   ]
  },
  {
   "cell_type": "code",
   "execution_count": 22,
   "id": "9ca5f88e-d25b-4b88-aa60-a2f4b34a65d5",
   "metadata": {},
   "outputs": [
    {
     "data": {
      "text/html": [
       "<div>\n",
       "<style scoped>\n",
       "    .dataframe tbody tr th:only-of-type {\n",
       "        vertical-align: middle;\n",
       "    }\n",
       "\n",
       "    .dataframe tbody tr th {\n",
       "        vertical-align: top;\n",
       "    }\n",
       "\n",
       "    .dataframe thead th {\n",
       "        text-align: right;\n",
       "    }\n",
       "</style>\n",
       "<table border=\"1\" class=\"dataframe\">\n",
       "  <thead>\n",
       "    <tr style=\"text-align: right;\">\n",
       "      <th></th>\n",
       "      <th>Canción</th>\n",
       "      <th>Streams</th>\n",
       "    </tr>\n",
       "    <tr>\n",
       "      <th>Artistas</th>\n",
       "      <th></th>\n",
       "      <th></th>\n",
       "    </tr>\n",
       "  </thead>\n",
       "  <tbody>\n",
       "    <tr>\n",
       "      <th>Ariana</th>\n",
       "      <td>yes,and?</td>\n",
       "      <td>3800000</td>\n",
       "    </tr>\n",
       "    <tr>\n",
       "      <th>Nicki Nicole</th>\n",
       "      <td>Me Gusta</td>\n",
       "      <td>1500000</td>\n",
       "    </tr>\n",
       "  </tbody>\n",
       "</table>\n",
       "</div>"
      ],
      "text/plain": [
       "               Canción  Streams\n",
       "Artistas                       \n",
       "Ariana        yes,and?  3800000\n",
       "Nicki Nicole  Me Gusta  1500000"
      ]
     },
     "execution_count": 22,
     "metadata": {},
     "output_type": "execute_result"
    }
   ],
   "source": [
    "streamSanvicentino.iloc[0:2]"
   ]
  },
  {
   "cell_type": "code",
   "execution_count": 24,
   "id": "7cc5bf64-9dc4-46bb-bbb3-5f6147db9a9b",
   "metadata": {},
   "outputs": [
    {
     "data": {
      "text/plain": [
       "array(['yes,and?', 'Me Gusta', 'jagger.mp3', 'TU Turraka',\n",
       "       'No Te Arrepientas', 'Burguers'], dtype=object)"
      ]
     },
     "execution_count": 24,
     "metadata": {},
     "output_type": "execute_result"
    }
   ],
   "source": [
    "streamSanvicentino[\"Canción\"].unique() #columna array"
   ]
  },
  {
   "cell_type": "code",
   "execution_count": 25,
   "id": "3e753421-fa62-4fba-942d-16a3011369d7",
   "metadata": {},
   "outputs": [
    {
     "data": {
      "text/plain": [
       "6"
      ]
     },
     "execution_count": 25,
     "metadata": {},
     "output_type": "execute_result"
    }
   ],
   "source": [
    "#cuantas canciones hay? ->\n",
    "streamSanvicentino[\"Canción\"].nunique()"
   ]
  },
  {
   "cell_type": "code",
   "execution_count": 29,
   "id": "f109f350-3987-4a15-b381-cf9bda8591c7",
   "metadata": {},
   "outputs": [
    {
     "data": {
      "text/plain": [
       "Artistas\n",
       "Ariana           1\n",
       "Emilia           1\n",
       "LINDA Tatiana    1\n",
       "La Babydoll      1\n",
       "Nicki Nicole     1\n",
       "Onika            1\n",
       "dtype: int64"
      ]
     },
     "execution_count": 29,
     "metadata": {},
     "output_type": "execute_result"
    }
   ],
   "source": [
    "streamSanvicentino.groupby(\"Artistas\").size()\n",
    "#nos marca cuantas veces aparece algun artistas para una categoria, por ejemplo paises que pertenecen a un mismo continente\n"
   ]
  },
  {
   "cell_type": "code",
   "execution_count": 2,
   "id": "b798ea04-0ab3-4a21-bf47-b60b9ab328c6",
   "metadata": {},
   "outputs": [],
   "source": [
    "from gapminder import gapminder\n"
   ]
  },
  {
   "cell_type": "code",
   "execution_count": 10,
   "id": "c497b7fc-d367-428f-be07-a2b8ddaa957c",
   "metadata": {},
   "outputs": [
    {
     "data": {
      "text/plain": [
       "continent\n",
       "Africa      52\n",
       "Americas    25\n",
       "Asia        33\n",
       "Europe      30\n",
       "Oceania      2\n",
       "Name: country, dtype: int64"
      ]
     },
     "execution_count": 10,
     "metadata": {},
     "output_type": "execute_result"
    }
   ],
   "source": [
    "gapminder.groupby(\"continent\")[\"country\"].nunique()"
   ]
  },
  {
   "cell_type": "code",
   "execution_count": 11,
   "id": "c62c31f8-9187-4d28-ae37-d7c94188c594",
   "metadata": {},
   "outputs": [
    {
     "name": "stdout",
     "output_type": "stream",
     "text": [
      "<class 'pandas.core.frame.DataFrame'>\n",
      "RangeIndex: 1704 entries, 0 to 1703\n",
      "Data columns (total 6 columns):\n",
      " #   Column     Non-Null Count  Dtype  \n",
      "---  ------     --------------  -----  \n",
      " 0   country    1704 non-null   object \n",
      " 1   continent  1704 non-null   object \n",
      " 2   year       1704 non-null   int64  \n",
      " 3   lifeExp    1704 non-null   float64\n",
      " 4   pop        1704 non-null   int64  \n",
      " 5   gdpPercap  1704 non-null   float64\n",
      "dtypes: float64(2), int64(2), object(2)\n",
      "memory usage: 80.0+ KB\n"
     ]
    }
   ],
   "source": [
    "gapminder.info()"
   ]
  },
  {
   "cell_type": "code",
   "execution_count": 12,
   "id": "b93f625d-63cd-4a01-beb7-90f61b3af82e",
   "metadata": {},
   "outputs": [
    {
     "data": {
      "text/plain": [
       "(1704, 6)"
      ]
     },
     "execution_count": 12,
     "metadata": {},
     "output_type": "execute_result"
    }
   ],
   "source": [
    "gapminder.shape\n"
   ]
  },
  {
   "cell_type": "code",
   "execution_count": 26,
   "id": "5c5d5af7-baaf-4bdc-a153-87a7c25523ad",
   "metadata": {},
   "outputs": [
    {
     "data": {
      "text/plain": [
       "(6, 2)"
      ]
     },
     "execution_count": 26,
     "metadata": {},
     "output_type": "execute_result"
    }
   ],
   "source": [
    "streamSanvicentino.shape"
   ]
  },
  {
   "cell_type": "code",
   "execution_count": 34,
   "id": "c980ce31-9a49-4cf0-bbc3-67e381c6934d",
   "metadata": {},
   "outputs": [
    {
     "data": {
      "text/html": [
       "<div>\n",
       "<style scoped>\n",
       "    .dataframe tbody tr th:only-of-type {\n",
       "        vertical-align: middle;\n",
       "    }\n",
       "\n",
       "    .dataframe tbody tr th {\n",
       "        vertical-align: top;\n",
       "    }\n",
       "\n",
       "    .dataframe thead th {\n",
       "        text-align: right;\n",
       "    }\n",
       "</style>\n",
       "<table border=\"1\" class=\"dataframe\">\n",
       "  <thead>\n",
       "    <tr style=\"text-align: right;\">\n",
       "      <th></th>\n",
       "      <th>country</th>\n",
       "      <th>continent</th>\n",
       "      <th>year</th>\n",
       "      <th>lifeExp</th>\n",
       "      <th>pop</th>\n",
       "      <th>gdpPercap</th>\n",
       "    </tr>\n",
       "  </thead>\n",
       "  <tbody>\n",
       "    <tr>\n",
       "      <th>48</th>\n",
       "      <td>Argentina</td>\n",
       "      <td>Americas</td>\n",
       "      <td>1952</td>\n",
       "      <td>62.485</td>\n",
       "      <td>17876956</td>\n",
       "      <td>5911.315053</td>\n",
       "    </tr>\n",
       "    <tr>\n",
       "      <th>49</th>\n",
       "      <td>Argentina</td>\n",
       "      <td>Americas</td>\n",
       "      <td>1957</td>\n",
       "      <td>64.399</td>\n",
       "      <td>19610538</td>\n",
       "      <td>6856.856212</td>\n",
       "    </tr>\n",
       "    <tr>\n",
       "      <th>50</th>\n",
       "      <td>Argentina</td>\n",
       "      <td>Americas</td>\n",
       "      <td>1962</td>\n",
       "      <td>65.142</td>\n",
       "      <td>21283783</td>\n",
       "      <td>7133.166023</td>\n",
       "    </tr>\n",
       "    <tr>\n",
       "      <th>51</th>\n",
       "      <td>Argentina</td>\n",
       "      <td>Americas</td>\n",
       "      <td>1967</td>\n",
       "      <td>65.634</td>\n",
       "      <td>22934225</td>\n",
       "      <td>8052.953021</td>\n",
       "    </tr>\n",
       "    <tr>\n",
       "      <th>52</th>\n",
       "      <td>Argentina</td>\n",
       "      <td>Americas</td>\n",
       "      <td>1972</td>\n",
       "      <td>67.065</td>\n",
       "      <td>24779799</td>\n",
       "      <td>9443.038526</td>\n",
       "    </tr>\n",
       "    <tr>\n",
       "      <th>53</th>\n",
       "      <td>Argentina</td>\n",
       "      <td>Americas</td>\n",
       "      <td>1977</td>\n",
       "      <td>68.481</td>\n",
       "      <td>26983828</td>\n",
       "      <td>10079.026740</td>\n",
       "    </tr>\n",
       "    <tr>\n",
       "      <th>54</th>\n",
       "      <td>Argentina</td>\n",
       "      <td>Americas</td>\n",
       "      <td>1982</td>\n",
       "      <td>69.942</td>\n",
       "      <td>29341374</td>\n",
       "      <td>8997.897412</td>\n",
       "    </tr>\n",
       "    <tr>\n",
       "      <th>55</th>\n",
       "      <td>Argentina</td>\n",
       "      <td>Americas</td>\n",
       "      <td>1987</td>\n",
       "      <td>70.774</td>\n",
       "      <td>31620918</td>\n",
       "      <td>9139.671389</td>\n",
       "    </tr>\n",
       "    <tr>\n",
       "      <th>56</th>\n",
       "      <td>Argentina</td>\n",
       "      <td>Americas</td>\n",
       "      <td>1992</td>\n",
       "      <td>71.868</td>\n",
       "      <td>33958947</td>\n",
       "      <td>9308.418710</td>\n",
       "    </tr>\n",
       "    <tr>\n",
       "      <th>57</th>\n",
       "      <td>Argentina</td>\n",
       "      <td>Americas</td>\n",
       "      <td>1997</td>\n",
       "      <td>73.275</td>\n",
       "      <td>36203463</td>\n",
       "      <td>10967.281950</td>\n",
       "    </tr>\n",
       "    <tr>\n",
       "      <th>58</th>\n",
       "      <td>Argentina</td>\n",
       "      <td>Americas</td>\n",
       "      <td>2002</td>\n",
       "      <td>74.340</td>\n",
       "      <td>38331121</td>\n",
       "      <td>8797.640716</td>\n",
       "    </tr>\n",
       "    <tr>\n",
       "      <th>59</th>\n",
       "      <td>Argentina</td>\n",
       "      <td>Americas</td>\n",
       "      <td>2007</td>\n",
       "      <td>75.320</td>\n",
       "      <td>40301927</td>\n",
       "      <td>12779.379640</td>\n",
       "    </tr>\n",
       "  </tbody>\n",
       "</table>\n",
       "</div>"
      ],
      "text/plain": [
       "      country continent  year  lifeExp       pop     gdpPercap\n",
       "48  Argentina  Americas  1952   62.485  17876956   5911.315053\n",
       "49  Argentina  Americas  1957   64.399  19610538   6856.856212\n",
       "50  Argentina  Americas  1962   65.142  21283783   7133.166023\n",
       "51  Argentina  Americas  1967   65.634  22934225   8052.953021\n",
       "52  Argentina  Americas  1972   67.065  24779799   9443.038526\n",
       "53  Argentina  Americas  1977   68.481  26983828  10079.026740\n",
       "54  Argentina  Americas  1982   69.942  29341374   8997.897412\n",
       "55  Argentina  Americas  1987   70.774  31620918   9139.671389\n",
       "56  Argentina  Americas  1992   71.868  33958947   9308.418710\n",
       "57  Argentina  Americas  1997   73.275  36203463  10967.281950\n",
       "58  Argentina  Americas  2002   74.340  38331121   8797.640716\n",
       "59  Argentina  Americas  2007   75.320  40301927  12779.379640"
      ]
     },
     "metadata": {},
     "output_type": "display_data"
    }
   ],
   "source": [
    "#punto 13 pedir data especifica de ciertas filas\n",
    "#gm_sur es un dataframe que extrajo los datos de argentina, chile y uruguay en cada columna!\n",
    "gm_sur = gapminder[gapminder[\"country\"].isin([\"Argentina\",\"Chile\",\"Uruguay\"])]\n",
    "gm_arg = gapminder[gapminder[\"country\"].isin([\"Argentina\"])]\n",
    "display(gm_arg)\n",
    "#display(gm_sur)"
   ]
  },
  {
   "cell_type": "code",
   "execution_count": 44,
   "id": "f78c86e7-ee04-4c78-ae55-cdee7ec606d4",
   "metadata": {},
   "outputs": [
    {
     "data": {
      "text/html": [
       "<div>\n",
       "<style scoped>\n",
       "    .dataframe tbody tr th:only-of-type {\n",
       "        vertical-align: middle;\n",
       "    }\n",
       "\n",
       "    .dataframe tbody tr th {\n",
       "        vertical-align: top;\n",
       "    }\n",
       "\n",
       "    .dataframe thead th {\n",
       "        text-align: right;\n",
       "    }\n",
       "</style>\n",
       "<table border=\"1\" class=\"dataframe\">\n",
       "  <thead>\n",
       "    <tr style=\"text-align: right;\">\n",
       "      <th></th>\n",
       "      <th>country</th>\n",
       "      <th>continent</th>\n",
       "      <th>year</th>\n",
       "      <th>lifeExp</th>\n",
       "      <th>pop</th>\n",
       "      <th>gdpPercap</th>\n",
       "    </tr>\n",
       "  </thead>\n",
       "  <tbody>\n",
       "    <tr>\n",
       "      <th>48</th>\n",
       "      <td>Argentina</td>\n",
       "      <td>Americas</td>\n",
       "      <td>1952</td>\n",
       "      <td>62.485</td>\n",
       "      <td>17876956</td>\n",
       "      <td>5911.315053</td>\n",
       "    </tr>\n",
       "    <tr>\n",
       "      <th>49</th>\n",
       "      <td>Argentina</td>\n",
       "      <td>Americas</td>\n",
       "      <td>1957</td>\n",
       "      <td>64.399</td>\n",
       "      <td>19610538</td>\n",
       "      <td>6856.856212</td>\n",
       "    </tr>\n",
       "    <tr>\n",
       "      <th>50</th>\n",
       "      <td>Argentina</td>\n",
       "      <td>Americas</td>\n",
       "      <td>1962</td>\n",
       "      <td>65.142</td>\n",
       "      <td>21283783</td>\n",
       "      <td>7133.166023</td>\n",
       "    </tr>\n",
       "    <tr>\n",
       "      <th>51</th>\n",
       "      <td>Argentina</td>\n",
       "      <td>Americas</td>\n",
       "      <td>1967</td>\n",
       "      <td>65.634</td>\n",
       "      <td>22934225</td>\n",
       "      <td>8052.953021</td>\n",
       "    </tr>\n",
       "    <tr>\n",
       "      <th>52</th>\n",
       "      <td>Argentina</td>\n",
       "      <td>Americas</td>\n",
       "      <td>1972</td>\n",
       "      <td>67.065</td>\n",
       "      <td>24779799</td>\n",
       "      <td>9443.038526</td>\n",
       "    </tr>\n",
       "    <tr>\n",
       "      <th>53</th>\n",
       "      <td>Argentina</td>\n",
       "      <td>Americas</td>\n",
       "      <td>1977</td>\n",
       "      <td>68.481</td>\n",
       "      <td>26983828</td>\n",
       "      <td>10079.026740</td>\n",
       "    </tr>\n",
       "    <tr>\n",
       "      <th>54</th>\n",
       "      <td>Argentina</td>\n",
       "      <td>Americas</td>\n",
       "      <td>1982</td>\n",
       "      <td>69.942</td>\n",
       "      <td>29341374</td>\n",
       "      <td>8997.897412</td>\n",
       "    </tr>\n",
       "    <tr>\n",
       "      <th>55</th>\n",
       "      <td>Argentina</td>\n",
       "      <td>Americas</td>\n",
       "      <td>1987</td>\n",
       "      <td>70.774</td>\n",
       "      <td>31620918</td>\n",
       "      <td>9139.671389</td>\n",
       "    </tr>\n",
       "    <tr>\n",
       "      <th>56</th>\n",
       "      <td>Argentina</td>\n",
       "      <td>Americas</td>\n",
       "      <td>1992</td>\n",
       "      <td>71.868</td>\n",
       "      <td>33958947</td>\n",
       "      <td>9308.418710</td>\n",
       "    </tr>\n",
       "    <tr>\n",
       "      <th>57</th>\n",
       "      <td>Argentina</td>\n",
       "      <td>Americas</td>\n",
       "      <td>1997</td>\n",
       "      <td>73.275</td>\n",
       "      <td>36203463</td>\n",
       "      <td>10967.281950</td>\n",
       "    </tr>\n",
       "    <tr>\n",
       "      <th>58</th>\n",
       "      <td>Argentina</td>\n",
       "      <td>Americas</td>\n",
       "      <td>2002</td>\n",
       "      <td>74.340</td>\n",
       "      <td>38331121</td>\n",
       "      <td>8797.640716</td>\n",
       "    </tr>\n",
       "    <tr>\n",
       "      <th>59</th>\n",
       "      <td>Argentina</td>\n",
       "      <td>Americas</td>\n",
       "      <td>2007</td>\n",
       "      <td>75.320</td>\n",
       "      <td>40301927</td>\n",
       "      <td>12779.379640</td>\n",
       "    </tr>\n",
       "  </tbody>\n",
       "</table>\n",
       "</div>"
      ],
      "text/plain": [
       "      country continent  year  lifeExp       pop     gdpPercap\n",
       "48  Argentina  Americas  1952   62.485  17876956   5911.315053\n",
       "49  Argentina  Americas  1957   64.399  19610538   6856.856212\n",
       "50  Argentina  Americas  1962   65.142  21283783   7133.166023\n",
       "51  Argentina  Americas  1967   65.634  22934225   8052.953021\n",
       "52  Argentina  Americas  1972   67.065  24779799   9443.038526\n",
       "53  Argentina  Americas  1977   68.481  26983828  10079.026740\n",
       "54  Argentina  Americas  1982   69.942  29341374   8997.897412\n",
       "55  Argentina  Americas  1987   70.774  31620918   9139.671389\n",
       "56  Argentina  Americas  1992   71.868  33958947   9308.418710\n",
       "57  Argentina  Americas  1997   73.275  36203463  10967.281950\n",
       "58  Argentina  Americas  2002   74.340  38331121   8797.640716\n",
       "59  Argentina  Americas  2007   75.320  40301927  12779.379640"
      ]
     },
     "metadata": {},
     "output_type": "display_data"
    }
   ],
   "source": [
    "\"\"\"\n",
    "Primer año de Argentina = 1952\n",
    "Ultimo año de Argentina = 2007 \n",
    "\"\"\"\n",
    "Arg = gm_sur.iloc[0:12]\n",
    "display(Arg)\n",
    "#no se que onda con loc! xd\n"
   ]
  },
  {
   "cell_type": "code",
   "execution_count": 2,
   "id": "55b277e1-854f-45e6-943a-3c94b91455f7",
   "metadata": {},
   "outputs": [],
   "source": [
    "import pandas as pd\n",
    "import matplotlib.pyplot as plt\n",
    "df = pd.read_csv(\"C:/Users/Pepinaldo/Downloads/casos_coronavirus.csv\") # DataFrame\n",
    "#df.head()  # Primeras filas del DataFrameimport pandas as pd\n"
   ]
  },
  {
   "cell_type": "code",
   "execution_count": 50,
   "id": "b9267921-e89f-4803-800f-8ad3bcee1a03",
   "metadata": {},
   "outputs": [
    {
     "data": {
      "text/plain": [
       "<Axes: >"
      ]
     },
     "execution_count": 50,
     "metadata": {},
     "output_type": "execute_result"
    },
    {
     "data": {
      "image/png": "[encoded data removed]",
      "text/plain": [
       "<Figure size 640x480 with 1 Axes>"
      ]
     },
     "metadata": {},
     "output_type": "display_data"
    }
   ],
   "source": [
    "df[\"confirmados_Nuevos\"].plot()"
   ]
  },
  {
   "cell_type": "code",
   "execution_count": 4,
   "id": "29b8837e-48cf-456a-9489-3a34ee1c3a6d",
   "metadata": {},
   "outputs": [
    {
     "data": {
      "text/plain": [
       "0     3-3-2020\n",
       "1     4-3-2020\n",
       "2     5-3-2020\n",
       "3     6-3-2020\n",
       "4     7-3-2020\n",
       "        ...   \n",
       "91    2-6-2020\n",
       "92    3-6-2020\n",
       "93    4-6-2020\n",
       "94    5-6-2020\n",
       "95    6-6-2020\n",
       "Name: fecha, Length: 96, dtype: object"
      ]
     },
     "metadata": {},
     "output_type": "display_data"
    },
    {
     "data": {
      "text/plain": [
       "[<matplotlib.lines.Line2D at 0x1866f699550>]"
      ]
     },
     "execution_count": 4,
     "metadata": {},
     "output_type": "execute_result"
    },
    {
     "data": {
      "image/png": "[encoded data removed]",
      "text/plain": [
       "<Figure size 640x480 with 1 Axes>"
      ]
     },
     "metadata": {},
     "output_type": "display_data"
    }
   ],
   "source": [
    "casosDiaF = df[\"fecha\"]\n",
    "display(casosDiaF)\n",
    "casosDiaN = df[\"confirmados_Nuevos\"]\n",
    "casosDiaN\n",
    "plt.plot(casosDiaF,casosDiaN)"
   ]
  },
  {
   "cell_type": "code",
   "execution_count": 10,
   "id": "e801ba52-6205-439d-99eb-9141d07a6eb9",
   "metadata": {},
   "outputs": [
    {
     "data": {
      "image/png": "[encoded data removed]",
      "text/plain": [
       "<Figure size 640x480 with 1 Axes>"
      ]
     },
     "metadata": {},
     "output_type": "display_data"
    }
   ],
   "source": [
    "#arrayCasosAcumu = df[\"confirmados_Nuevos\"].unique()\n",
    "#casosAcumu = arrayCasosAcumu.cumsum()\n",
    "#dias = casosDiaF.unique()\n",
    "#display(dias)\n",
    "#plt.plot(casosAcumu)\n",
    "#casos_acumulados = df[\"confirmados_Nuevos\"].cumsum()\n",
    "#casos_acumulados.plot()\n",
    "casos_acumulados = df[\"confirmados_Nuevos\"].cumsum()\n",
    "dias_transcurridos = df[\"fecha\"].unique()\n",
    "y = casos_acumulados\n",
    "x = dias_transcurridos\n",
    "plt.plot(x,y)\n",
    "plt.yscale(\"log\")\n"
   ]
  },
  {
   "cell_type": "code",
   "execution_count": null,
   "id": "9ad8041f-fbcf-46c2-bf9c-6490bf053c07",
   "metadata": {},
   "outputs": [],
   "source": []
  }
 ],
 "metadata": {
  "kernelspec": {
   "display_name": "Python 3 (ipykernel)",
   "language": "python",
   "name": "python3"
  },
  "language_info": {
   "codemirror_mode": {
    "name": "ipython",
    "version": 3
   },
   "file_extension": ".py",
   "mimetype": "text/x-python",
   "name": "python",
   "nbconvert_exporter": "python",
   "pygments_lexer": "ipython3",
   "version": "3.8.3"
  }
 },
 "nbformat": 4,
 "nbformat_minor": 5
}
